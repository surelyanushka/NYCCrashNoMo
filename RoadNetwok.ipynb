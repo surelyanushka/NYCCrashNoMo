{
 "cells": [
  {
   "cell_type": "code",
   "execution_count": 1,
   "metadata": {},
   "outputs": [
    {
     "name": "stderr",
     "output_type": "stream",
     "text": [
      "/opt/homebrew/anaconda3/envs/DaskEnv/lib/python3.12/site-packages/dask/dataframe/__init__.py:31: FutureWarning: \n",
      "Dask dataframe query planning is disabled because dask-expr is not installed.\n",
      "\n",
      "You can install it with `pip install dask[dataframe]` or `conda install dask`.\n",
      "This will raise in a future version.\n",
      "\n",
      "  warnings.warn(msg, FutureWarning)\n"
     ]
    }
   ],
   "source": [
    "import pandas as pd\n",
    "import osmnx as ox\n",
    "import warnings\n",
    "\n",
    "warnings.filterwarnings(\"ignore\")"
   ]
  },
  {
   "cell_type": "code",
   "execution_count": null,
   "metadata": {},
   "outputs": [],
   "source": [
    "nycGraph = ox.graph.graph_from_place(\"New York City\", simplify=False)\n",
    "ox.save_graphml(nycGraph, \"data/nycRoadGraph.graphml\")"
   ]
  },
  {
   "cell_type": "code",
   "execution_count": 2,
   "metadata": {},
   "outputs": [],
   "source": [
    "nycGraph = ox.load_graphml(\"data/nycRoadGraph.graphml\")\n",
    "nycGraph = nycGraph.to_undirected()\n"
   ]
  },
  {
   "cell_type": "code",
   "execution_count": 3,
   "metadata": {},
   "outputs": [],
   "source": [
    "nodesDf, edgesDf = ox.graph_to_gdfs(nycGraph, nodes = True, edges=True, node_geometry=True)"
   ]
  },
  {
   "cell_type": "code",
   "execution_count": 4,
   "metadata": {},
   "outputs": [],
   "source": [
    "degreeDict = nycGraph.degree()\n",
    "nodesDf = nodesDf.reset_index()"
   ]
  },
  {
   "cell_type": "code",
   "execution_count": 5,
   "metadata": {},
   "outputs": [
    {
     "data": {
      "text/html": [
       "<div>\n",
       "<style scoped>\n",
       "    .dataframe tbody tr th:only-of-type {\n",
       "        vertical-align: middle;\n",
       "    }\n",
       "\n",
       "    .dataframe tbody tr th {\n",
       "        vertical-align: top;\n",
       "    }\n",
       "\n",
       "    .dataframe thead th {\n",
       "        text-align: right;\n",
       "    }\n",
       "</style>\n",
       "<table border=\"1\" class=\"dataframe\">\n",
       "  <thead>\n",
       "    <tr style=\"text-align: right;\">\n",
       "      <th></th>\n",
       "      <th>osmid</th>\n",
       "      <th>y</th>\n",
       "      <th>x</th>\n",
       "      <th>street_count</th>\n",
       "      <th>ref</th>\n",
       "      <th>highway</th>\n",
       "      <th>geometry</th>\n",
       "      <th>degree</th>\n",
       "    </tr>\n",
       "  </thead>\n",
       "  <tbody>\n",
       "    <tr>\n",
       "      <th>0</th>\n",
       "      <td>30807314</td>\n",
       "      <td>40.790720</td>\n",
       "      <td>-73.963576</td>\n",
       "      <td>4</td>\n",
       "      <td>NaN</td>\n",
       "      <td>NaN</td>\n",
       "      <td>POINT (-73.96358 40.79072)</td>\n",
       "      <td>4</td>\n",
       "    </tr>\n",
       "    <tr>\n",
       "      <th>1</th>\n",
       "      <td>30978747</td>\n",
       "      <td>40.774267</td>\n",
       "      <td>-73.973425</td>\n",
       "      <td>4</td>\n",
       "      <td>NaN</td>\n",
       "      <td>NaN</td>\n",
       "      <td>POINT (-73.97343 40.77427)</td>\n",
       "      <td>4</td>\n",
       "    </tr>\n",
       "    <tr>\n",
       "      <th>2</th>\n",
       "      <td>30978752</td>\n",
       "      <td>40.774754</td>\n",
       "      <td>-73.974383</td>\n",
       "      <td>4</td>\n",
       "      <td>NaN</td>\n",
       "      <td>NaN</td>\n",
       "      <td>POINT (-73.97438 40.77475)</td>\n",
       "      <td>4</td>\n",
       "    </tr>\n",
       "    <tr>\n",
       "      <th>3</th>\n",
       "      <td>39076461</td>\n",
       "      <td>40.786409</td>\n",
       "      <td>-73.794627</td>\n",
       "      <td>3</td>\n",
       "      <td>33</td>\n",
       "      <td>motorway_junction</td>\n",
       "      <td>POINT (-73.79463 40.78641)</td>\n",
       "      <td>3</td>\n",
       "    </tr>\n",
       "    <tr>\n",
       "      <th>4</th>\n",
       "      <td>39076490</td>\n",
       "      <td>40.762429</td>\n",
       "      <td>-73.757091</td>\n",
       "      <td>3</td>\n",
       "      <td>31W</td>\n",
       "      <td>motorway_junction</td>\n",
       "      <td>POINT (-73.75709 40.76243)</td>\n",
       "      <td>3</td>\n",
       "    </tr>\n",
       "  </tbody>\n",
       "</table>\n",
       "</div>"
      ],
      "text/plain": [
       "      osmid          y          x  street_count  ref            highway  \\\n",
       "0  30807314  40.790720 -73.963576             4  NaN                NaN   \n",
       "1  30978747  40.774267 -73.973425             4  NaN                NaN   \n",
       "2  30978752  40.774754 -73.974383             4  NaN                NaN   \n",
       "3  39076461  40.786409 -73.794627             3   33  motorway_junction   \n",
       "4  39076490  40.762429 -73.757091             3  31W  motorway_junction   \n",
       "\n",
       "                     geometry  degree  \n",
       "0  POINT (-73.96358 40.79072)       4  \n",
       "1  POINT (-73.97343 40.77427)       4  \n",
       "2  POINT (-73.97438 40.77475)       4  \n",
       "3  POINT (-73.79463 40.78641)       3  \n",
       "4  POINT (-73.75709 40.76243)       3  "
      ]
     },
     "execution_count": 5,
     "metadata": {},
     "output_type": "execute_result"
    }
   ],
   "source": [
    "nodesDf['degree'] = nodesDf['osmid'].apply(lambda x : degreeDict[x])\n",
    "nodesDf.head()"
   ]
  },
  {
   "cell_type": "code",
   "execution_count": 6,
   "metadata": {},
   "outputs": [],
   "source": [
    "# to get intersections and remove nodes that lie on the same line\n",
    "nodesDf = nodesDf[nodesDf['degree'] >=3 ]\n",
    "nodesDf.to_csv('data/networks.csv',index = False)"
   ]
  },
  {
   "cell_type": "code",
   "execution_count": null,
   "metadata": {},
   "outputs": [],
   "source": []
  }
 ],
 "metadata": {
  "kernelspec": {
   "display_name": "DaskEnv",
   "language": "python",
   "name": "python3"
  },
  "language_info": {
   "codemirror_mode": {
    "name": "ipython",
    "version": 3
   },
   "file_extension": ".py",
   "mimetype": "text/x-python",
   "name": "python",
   "nbconvert_exporter": "python",
   "pygments_lexer": "ipython3",
   "version": "3.12.3"
  },
  "orig_nbformat": 4
 },
 "nbformat": 4,
 "nbformat_minor": 2
}
